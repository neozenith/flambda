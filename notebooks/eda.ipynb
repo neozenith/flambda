{
 "cells": [
  {
   "cell_type": "markdown",
   "id": "7ebc6b51-3243-4c8f-a376-f0cb2063866a",
   "metadata": {},
   "source": [
    "# NLP Experiments"
   ]
  },
  {
   "cell_type": "code",
   "execution_count": 38,
   "id": "584ba113-1553-4958-85a5-b0d77275238a",
   "metadata": {
    "tags": []
   },
   "outputs": [],
   "source": [
    "import os\n",
    "import io\n",
    "\n",
    "import awswrangler as wr\n",
    "import boto3\n",
    "import sagemaker\n",
    "import sagemaker.huggingface\n",
    "from sklearn.model_selection import train_test_split\n",
    "\n",
    "from dotenv import load_dotenv"
   ]
  },
  {
   "cell_type": "markdown",
   "id": "02bae4e8-5e1d-4150-85dd-c10bb209f708",
   "metadata": {},
   "source": [
    "## Setup Session Configuration"
   ]
  },
  {
   "cell_type": "code",
   "execution_count": 39,
   "id": "10148cf3-3b61-4559-a58a-8ee0c66f802a",
   "metadata": {},
   "outputs": [],
   "source": [
    "load_dotenv()\n",
    "bucket = os.getenv(\"DEFAULT_BUCKET\")\n",
    "prefix = os.getenv(\"S3_PREFIX\")\n",
    "\n",
    "path_prefix = f\"s3://{bucket}/{prefix}\"\n",
    "\n",
    "boto_session = boto3.Session(profile_name=os.getenv(\"AWS_PROFILE\"), region_name=os.getenv(\"AWS_DEFAULT_REGION\"))\n",
    "session = sagemaker.Session(boto_session=boto_session, default_bucket=bucket)\n",
    "role = os.getenv(\"SAGEMAKER_ARN_ROLE\", None)"
   ]
  },
  {
   "cell_type": "markdown",
   "id": "bcc157a3-2692-4539-9cef-97e632231f74",
   "metadata": {},
   "source": [
    "## Fetch Data from Athena"
   ]
  },
  {
   "cell_type": "code",
   "execution_count": 41,
   "id": "5003d5ae-7c57-4b1e-a312-38bd11b2c24b",
   "metadata": {},
   "outputs": [],
   "source": [
    "df = wr.athena.read_sql_query(\n",
    "    \"\"\"\n",
    "SELECT \n",
    "    rule_based_label as label\n",
    "    , description as source\n",
    "FROM finances.silver_labelled\n",
    "WHERE rule_based_label not in ('Other')\n",
    "\"\"\",\n",
    "    \"finances\",\n",
    "    boto3_session=boto_session,\n",
    ")"
   ]
  },
  {
   "cell_type": "markdown",
   "id": "78c2205f-3e62-4a47-b15a-b14644024828",
   "metadata": {},
   "source": [
    "## Create Train / Test / Validate Data Split"
   ]
  },
  {
   "cell_type": "code",
   "execution_count": 61,
   "id": "d26350ec-87fa-4a18-8ba0-c34b58c8b80b",
   "metadata": {},
   "outputs": [
    {
     "data": {
      "text/plain": [
       "((1558, 2), (195, 2), (195, 2))"
      ]
     },
     "execution_count": 61,
     "metadata": {},
     "output_type": "execute_result"
    }
   ],
   "source": [
    "df_train, df_test_validate = train_test_split(df, test_size=0.2)\n",
    "df_test, df_validate = train_test_split(df_test_validate, test_size=0.5)\n",
    "\n",
    "export = [(\"train\", df_train), (\"test\", df_test), (\"validate\", df_validate)]\n",
    "\n",
    "df_train.shape, df_test.shape, df_validate.shape"
   ]
  },
  {
   "cell_type": "markdown",
   "id": "11af5412-3312-4047-9db3-e6b7bb824832",
   "metadata": {},
   "source": [
    "## Export Data to S3 ready for Training"
   ]
  },
  {
   "cell_type": "code",
   "execution_count": 62,
   "id": "a9be4aac-a929-4362-83e5-6588624904d7",
   "metadata": {},
   "outputs": [
    {
     "data": {
      "text/plain": [
       "['s3://play-projects-joshpeak/nlp-play/sagemaker/train.jsonlines',\n",
       " 's3://play-projects-joshpeak/nlp-play/sagemaker/test.jsonlines',\n",
       " 's3://play-projects-joshpeak/nlp-play/sagemaker/validate.jsonlines']"
      ]
     },
     "execution_count": 62,
     "metadata": {},
     "output_type": "execute_result"
    }
   ],
   "source": [
    "def df_s3_json_lines(df, path, boto3_session):\n",
    "    temp_file_name = \"temp.jsonlines\"\n",
    "    with open(temp_file_name, \"wb\") as f:\n",
    "        df.to_json(f, orient=\"records\", lines=True)\n",
    "\n",
    "    with open(temp_file_name, \"rb\") as f:\n",
    "        wr.s3.upload(local_file=f, path=path, boto3_session=boto_session)\n",
    "\n",
    "    os.remove(temp_file_name)\n",
    "    return path\n",
    "\n",
    "\n",
    "[df_s3_json_lines(df, f\"{path_prefix}/{k}.jsonlines\", boto_session) for k, df in export]"
   ]
  },
  {
   "cell_type": "markdown",
   "id": "42a93f5c-d817-489c-a96b-944d34e92c66",
   "metadata": {},
   "source": [
    "# Train Model"
   ]
  },
  {
   "cell_type": "code",
   "execution_count": null,
   "id": "8c2e4ec9-90f3-4e62-9d14-138355177f8a",
   "metadata": {},
   "outputs": [],
   "source": [
    "# TODO:\n",
    "# -"
   ]
  }
 ],
 "metadata": {
  "kernelspec": {
   "display_name": "Python 3 (ipykernel)",
   "language": "python",
   "name": "python3"
  },
  "language_info": {
   "codemirror_mode": {
    "name": "ipython",
    "version": 3
   },
   "file_extension": ".py",
   "mimetype": "text/x-python",
   "name": "python",
   "nbconvert_exporter": "python",
   "pygments_lexer": "ipython3",
   "version": "3.9.13"
  }
 },
 "nbformat": 4,
 "nbformat_minor": 5
}
