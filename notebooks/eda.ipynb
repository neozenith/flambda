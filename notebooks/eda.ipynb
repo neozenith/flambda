{
 "cells": [
  {
   "cell_type": "markdown",
   "id": "7ebc6b51-3243-4c8f-a376-f0cb2063866a",
   "metadata": {},
   "source": [
    "# NLP Experiments"
   ]
  },
  {
   "cell_type": "code",
   "execution_count": 1,
   "id": "584ba113-1553-4958-85a5-b0d77275238a",
   "metadata": {
    "tags": []
   },
   "outputs": [],
   "source": [
    "import os\n",
    "import io\n",
    "\n",
    "import awswrangler as wr\n",
    "import boto3\n",
    "import sagemaker\n",
    "import sagemaker.huggingface\n",
    "from sklearn.model_selection import train_test_split\n",
    "from transformers import AutoTokenizer, pipeline\n",
    "\n",
    "from dotenv import load_dotenv"
   ]
  },
  {
   "cell_type": "markdown",
   "id": "02bae4e8-5e1d-4150-85dd-c10bb209f708",
   "metadata": {},
   "source": [
    "## Setup Session Configuration"
   ]
  },
  {
   "cell_type": "code",
   "execution_count": 2,
   "id": "10148cf3-3b61-4559-a58a-8ee0c66f802a",
   "metadata": {},
   "outputs": [],
   "source": [
    "load_dotenv()\n",
    "bucket = os.getenv(\"DEFAULT_BUCKET\")\n",
    "prefix = os.getenv(\"S3_PREFIX\")\n",
    "\n",
    "path_prefix = f\"s3://{bucket}/{prefix}\"\n",
    "\n",
    "boto_session = boto3.Session(profile_name=os.getenv(\"AWS_PROFILE\"), region_name=os.getenv(\"AWS_DEFAULT_REGION\"))\n",
    "session = sagemaker.Session(boto_session=boto_session, default_bucket=bucket)\n",
    "role = os.getenv(\"SAGEMAKER_ARN_ROLE\", None)"
   ]
  },
  {
   "cell_type": "markdown",
   "id": "bcc157a3-2692-4539-9cef-97e632231f74",
   "metadata": {},
   "source": [
    "## Fetch Data from Athena"
   ]
  },
  {
   "cell_type": "code",
   "execution_count": 3,
   "id": "5003d5ae-7c57-4b1e-a312-38bd11b2c24b",
   "metadata": {},
   "outputs": [],
   "source": [
    "df = wr.athena.read_sql_query(\n",
    "    \"\"\"\n",
    "SELECT \n",
    "    rule_based_label as label\n",
    "    , description as source\n",
    "FROM finances.silver_labelled\n",
    "WHERE rule_based_label not in ('Other')\n",
    "\"\"\",\n",
    "    \"finances\",\n",
    "    boto3_session=boto_session,\n",
    ")"
   ]
  },
  {
   "cell_type": "markdown",
   "id": "78c2205f-3e62-4a47-b15a-b14644024828",
   "metadata": {},
   "source": [
    "## Create Train / Test / Validate Data Split"
   ]
  },
  {
   "cell_type": "code",
   "execution_count": 4,
   "id": "d26350ec-87fa-4a18-8ba0-c34b58c8b80b",
   "metadata": {},
   "outputs": [
    {
     "data": {
      "text/plain": [
       "((1558, 2), (195, 2), (195, 2))"
      ]
     },
     "execution_count": 4,
     "metadata": {},
     "output_type": "execute_result"
    }
   ],
   "source": [
    "df_train, df_test_validate = train_test_split(df, test_size=0.2)\n",
    "df_test, df_validate = train_test_split(df_test_validate, test_size=0.5)\n",
    "\n",
    "export = [(\"train\", df_train), (\"test\", df_test), (\"validate\", df_validate)]\n",
    "\n",
    "df_train.shape, df_test.shape, df_validate.shape"
   ]
  },
  {
   "cell_type": "code",
   "execution_count": 5,
   "id": "c6d912b0-451b-4de0-8a9a-edd156884d8b",
   "metadata": {},
   "outputs": [
    {
     "data": {
      "text/html": [
       "<div>\n",
       "<style scoped>\n",
       "    .dataframe tbody tr th:only-of-type {\n",
       "        vertical-align: middle;\n",
       "    }\n",
       "\n",
       "    .dataframe tbody tr th {\n",
       "        vertical-align: top;\n",
       "    }\n",
       "\n",
       "    .dataframe thead th {\n",
       "        text-align: right;\n",
       "    }\n",
       "</style>\n",
       "<table border=\"1\" class=\"dataframe\">\n",
       "  <thead>\n",
       "    <tr style=\"text-align: right;\">\n",
       "      <th></th>\n",
       "      <th>label</th>\n",
       "      <th>source</th>\n",
       "    </tr>\n",
       "  </thead>\n",
       "  <tbody>\n",
       "    <tr>\n",
       "      <th>609</th>\n",
       "      <td>Groceries</td>\n",
       "      <td>WOOLWORTHS MAYFIELD</td>\n",
       "    </tr>\n",
       "    <tr>\n",
       "      <th>1063</th>\n",
       "      <td>Groceries</td>\n",
       "      <td>BWS LIQUOR MAYFIELD</td>\n",
       "    </tr>\n",
       "    <tr>\n",
       "      <th>1310</th>\n",
       "      <td>Cafe</td>\n",
       "      <td>SQ *KAROO &amp; CO Wahroonga</td>\n",
       "    </tr>\n",
       "  </tbody>\n",
       "</table>\n",
       "</div>"
      ],
      "text/plain": [
       "          label                    source\n",
       "609   Groceries       WOOLWORTHS MAYFIELD\n",
       "1063  Groceries       BWS LIQUOR MAYFIELD\n",
       "1310       Cafe  SQ *KAROO & CO Wahroonga"
      ]
     },
     "execution_count": 5,
     "metadata": {},
     "output_type": "execute_result"
    }
   ],
   "source": [
    "df_train[:3]"
   ]
  },
  {
   "cell_type": "markdown",
   "id": "11af5412-3312-4047-9db3-e6b7bb824832",
   "metadata": {},
   "source": [
    "## Export Data to S3 ready for Training"
   ]
  },
  {
   "cell_type": "code",
   "execution_count": 6,
   "id": "a9be4aac-a929-4362-83e5-6588624904d7",
   "metadata": {},
   "outputs": [
    {
     "data": {
      "text/plain": [
       "['s3://play-projects-joshpeak/nlp-play/sagemaker/train.jsonlines',\n",
       " 's3://play-projects-joshpeak/nlp-play/sagemaker/test.jsonlines',\n",
       " 's3://play-projects-joshpeak/nlp-play/sagemaker/validate.jsonlines']"
      ]
     },
     "execution_count": 6,
     "metadata": {},
     "output_type": "execute_result"
    }
   ],
   "source": [
    "def df_s3_json_lines(df, path, boto3_session):\n",
    "    temp_file_name = \"temp.jsonlines\"\n",
    "    with open(temp_file_name, \"wb\") as f:\n",
    "        df.to_json(f, orient=\"records\", lines=True)\n",
    "\n",
    "    with open(temp_file_name, \"rb\") as f:\n",
    "        wr.s3.upload(local_file=f, path=path, boto3_session=boto_session)\n",
    "\n",
    "    os.remove(temp_file_name)\n",
    "    return path\n",
    "\n",
    "\n",
    "[df_s3_json_lines(df, f\"{path_prefix}/{k}.jsonlines\", boto_session) for k, df in export]"
   ]
  },
  {
   "cell_type": "code",
   "execution_count": 7,
   "id": "3176cd54-4416-4515-be56-e371bbd9b0c1",
   "metadata": {},
   "outputs": [
    {
     "data": {
      "text/plain": [
       "False"
      ]
     },
     "execution_count": 7,
     "metadata": {},
     "output_type": "execute_result"
    }
   ],
   "source": [
    "import torch\n",
    "\n",
    "torch.cuda.is_available()"
   ]
  },
  {
   "cell_type": "markdown",
   "id": "42a93f5c-d817-489c-a96b-944d34e92c66",
   "metadata": {},
   "source": [
    "# Train Model"
   ]
  },
  {
   "cell_type": "code",
   "execution_count": 10,
   "id": "8c2e4ec9-90f3-4e62-9d14-138355177f8a",
   "metadata": {},
   "outputs": [],
   "source": [
    "from transformers import AutoTokenizer, AutoModelForSequenceClassification\n",
    "\n",
    "model_name = \"distilbert-base-uncased-finetuned-sst-2-english\"\n",
    "model = AutoModelForSequenceClassification.from_pretrained(model_name)\n",
    "tokenizer = AutoTokenizer.from_pretrained(model_name)\n",
    "\n",
    "classifier = pipeline(\"text-classification\", model=model, tokenizer=tokenizer)\n",
    "docs = list(df_test.source)\n",
    "docs_iter = iter(docs)\n"
   ]
  },
  {
   "cell_type": "code",
   "execution_count": 22,
   "id": "b32fcaf1-12bb-4870-b47d-cd0ad4fc9377",
   "metadata": {},
   "outputs": [
    {
     "name": "stdout",
     "output_type": "stream",
     "text": [
      "Scott -Dibben Chemist Kotara\n",
      "[{'label': 'NEGATIVE', 'score': 0.972266435623169}]\n"
     ]
    }
   ],
   "source": [
    "doc = next(docs_iter)\n",
    "print(doc)\n",
    "result = classifier(doc)\n",
    "print(result)"
   ]
  },
  {
   "cell_type": "code",
   "execution_count": null,
   "id": "cca1a0de-9e83-42a5-bf3e-0db73495f513",
   "metadata": {},
   "outputs": [],
   "source": []
  }
 ],
 "metadata": {
  "kernelspec": {
   "display_name": "Python 3 (ipykernel)",
   "language": "python",
   "name": "python3"
  },
  "language_info": {
   "codemirror_mode": {
    "name": "ipython",
    "version": 3
   },
   "file_extension": ".py",
   "mimetype": "text/x-python",
   "name": "python",
   "nbconvert_exporter": "python",
   "pygments_lexer": "ipython3",
   "version": "3.9.13"
  }
 },
 "nbformat": 4,
 "nbformat_minor": 5
}
